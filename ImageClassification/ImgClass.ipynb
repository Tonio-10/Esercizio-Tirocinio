{
 "cells": [
  {
   "cell_type": "markdown",
   "id": "3d896e4c-e989-485c-8f66-b687a270d980",
   "metadata": {},
   "source": [
    "# ImageClassification with ResNet"
   ]
  },
  {
   "cell_type": "markdown",
   "id": "7865ebac-a81e-4fff-85b3-2409325ce9f2",
   "metadata": {},
   "source": [
    "Source: \"https://learnopencv.com/pytorch-for-beginners-image-classification-using-pre-trained-models/\""
   ]
  },
  {
   "cell_type": "markdown",
   "id": "4bee19b6-4350-4879-9ed2-5eefe50d55c2",
   "metadata": {},
   "source": [
    "Importo i modelli disponibili in TorchVision e li mostro a display"
   ]
  },
  {
   "cell_type": "code",
   "execution_count": 1,
   "id": "cde90aaf-d733-4e3a-8bc1-440de72fab3c",
   "metadata": {},
   "outputs": [],
   "source": [
    "from torchvision import models, transforms\n",
    "from PIL import Image\n",
    "import torch\n",
    "\n",
    "# dir(models)"
   ]
  },
  {
   "cell_type": "markdown",
   "id": "e52e814e-6cca-4b34-9c9d-b2e3b177cf21",
   "metadata": {},
   "source": [
    "Scelta la ResNet, viene impostata già pre-allenata (sis caricano tutti i pesi associati ai vari layer).\n",
    "In particolare la ResNet152 è stata scelta, presentando appunto 152 layer, suppongo possa avere un rendimento migliore."
   ]
  },
  {
   "cell_type": "code",
   "execution_count": 2,
   "id": "0abe0558-1fb9-4f68-a759-f09ae63abbbd",
   "metadata": {},
   "outputs": [
    {
     "name": "stderr",
     "output_type": "stream",
     "text": [
      "C:\\Users\\antoa\\anaconda3\\envs\\EsercLu\\Lib\\site-packages\\torchvision\\models\\_utils.py:208: UserWarning: The parameter 'pretrained' is deprecated since 0.13 and may be removed in the future, please use 'weights' instead.\n",
      "  warnings.warn(\n",
      "C:\\Users\\antoa\\anaconda3\\envs\\EsercLu\\Lib\\site-packages\\torchvision\\models\\_utils.py:223: UserWarning: Arguments other than a weight enum or `None` for 'weights' are deprecated since 0.13 and may be removed in the future. The current behavior is equivalent to passing `weights=ResNet152_Weights.IMAGENET1K_V1`. You can also use `weights=ResNet152_Weights.DEFAULT` to get the most up-to-date weights.\n",
      "  warnings.warn(msg)\n"
     ]
    }
   ],
   "source": [
    "ResNet = models.resnet152(pretrained=True)\n",
    "#print(ResNet)"
   ]
  },
  {
   "cell_type": "markdown",
   "id": "1f018ddf-9e20-4c36-b601-d122d668e443",
   "metadata": {},
   "source": [
    "Pre-impostazione della trasformazione richiesta alla generica immagine che verrà caricata poi in seguito, adattandola all'input richiesto dalla ResNet.\n",
    "Nell'esempio portava anche una funzione di cropping a 224x224 a valle di un resize di 256x256: pensavo fosse superfluo e poteva portare a perdite di informazioni nell'immagine (es. un oggetto non perfettamente centrato). I valori di normalizzazione sono preimpostati seguendo i valori esposti nel link di Luca."
   ]
  },
  {
   "cell_type": "code",
   "execution_count": 3,
   "id": "8926d433-6c5a-4f59-b6bd-2a6a40dcbe64",
   "metadata": {},
   "outputs": [],
   "source": [
    "transform = transforms.Compose([\n",
    "    transforms.Resize(224),\n",
    "    transforms.ToTensor(),\n",
    "    transforms.Normalize(\n",
    "        mean = [0.485, 0.456, 0.406],\n",
    "        std  = [0.229, 0.224, 0.225]\n",
    "    )\n",
    "])"
   ]
  },
  {
   "cell_type": "markdown",
   "id": "0b7564a8-a5c3-4c05-8b45-c7af532d7b7c",
   "metadata": {},
   "source": [
    "Carico l'imagine di Renato, che dovrebbe appartenere alla classe di riga 30 della ResNet"
   ]
  },
  {
   "cell_type": "code",
   "execution_count": 4,
   "id": "6924e913-3660-4023-8d39-e7214420da73",
   "metadata": {},
   "outputs": [],
   "source": [
    "img = Image.open(\"C:/Users/antoa/ImageClassification/img/Lucio.jpg\")\n",
    "img.show()"
   ]
  },
  {
   "cell_type": "markdown",
   "id": "102c23a7-fcea-43eb-ac36-59eead637d74",
   "metadata": {},
   "source": [
    "Conversione dell'immagine nell'input richiesto da ResNet;\n",
    "\n",
    "Cos'è il batch?"
   ]
  },
  {
   "cell_type": "code",
   "execution_count": 5,
   "id": "be3d046e-ca4d-4f36-8eb3-016350882ec3",
   "metadata": {},
   "outputs": [],
   "source": [
    "img_t = transform(img)\n",
    "batch_t = torch.unsqueeze(img_t,0)"
   ]
  },
  {
   "cell_type": "markdown",
   "id": "4bf0f9e5-9774-49f5-99f7-917aeba98748",
   "metadata": {},
   "source": [
    "Inizializzo il modello ponendolo in formato eval ???\n",
    "Identifico la classe prevista"
   ]
  },
  {
   "cell_type": "code",
   "execution_count": 6,
   "id": "76f07237-ddf8-45e8-8fab-ab6559000261",
   "metadata": {},
   "outputs": [],
   "source": [
    "ResNet.eval()\n",
    "output = ResNet(batch_t)\n",
    "#print(output.shape)"
   ]
  },
  {
   "cell_type": "markdown",
   "id": "93ac3caf-0020-4647-ab39-7611d6171eb5",
   "metadata": {},
   "source": [
    "Dal file di testo in cui ho tutte le classi che posso identificare, creo il vettore stringa in cui ogni classe è associata ad un indice"
   ]
  },
  {
   "cell_type": "code",
   "execution_count": 7,
   "id": "730f3a5d-b194-466c-8030-067ef8da0a03",
   "metadata": {},
   "outputs": [],
   "source": [
    "with open('C:/Users/antoa/ImageClassification/imagenet_classes.txt') as f:\n",
    "          classes = [line.strip() for line in f.readlines()]\n",
    "#print(\"Number of classes: {}\".format(len(classes)))\n",
    "#classes"
   ]
  },
  {
   "cell_type": "markdown",
   "id": "933ed3c7-cc12-4942-90d3-b718c3d294d4",
   "metadata": {},
   "source": [
    "Prelevo gli indici del vettore output ordinato in senso decrescente\n",
    "\n",
    "Valuto il valore percentuale di ognuno con softmax\n",
    "\n",
    "Prelevo i primi 10 valori maggiori"
   ]
  },
  {
   "cell_type": "code",
   "execution_count": 8,
   "id": "e9580a45-6fbd-4d7e-b644-b87975d8d752",
   "metadata": {},
   "outputs": [
    {
     "data": {
      "text/plain": [
       "[('chimpanzee, chimp, Pan troglodytes', 98.89942169189453),\n",
       " ('macaque', 0.4933602213859558),\n",
       " ('siamang, Hylobates syndactylus, Symphalangus syndactylus',\n",
       "  0.12610672414302826),\n",
       " ('guenon, guenon monkey', 0.0650237575173378),\n",
       " ('orangutan, orang, orangutang, Pongo pygmaeus', 0.051429834216833115),\n",
       " ('spider monkey, Ateles geoffroyi', 0.04538612440228462),\n",
       " ('gorilla, Gorilla gorilla', 0.03555387258529663),\n",
       " ('baboon', 0.030215026810765266),\n",
       " ('patas, hussar monkey, Erythrocebus patas', 0.029908213764429092),\n",
       " ('sloth bear, Melursus ursinus, Ursus ursinus', 0.02793831191956997)]"
      ]
     },
     "execution_count": 8,
     "metadata": {},
     "output_type": "execute_result"
    }
   ],
   "source": [
    "#_, index = torch.max(output, 1)\n",
    "#percentage = torch.nn.functional.softmax(output, dim=1)[0] * 100\n",
    "#print(classes[index[0]], percentage[index[0]].item())\n",
    "\n",
    "_, index = torch.sort(output, descending=True)\n",
    "percentage = torch.nn.functional.softmax(output, dim=1)[0] * 100\n",
    "[(classes[idx], percentage[idx].item()) for idx in index[0][:10]]"
   ]
  },
  {
   "cell_type": "code",
   "execution_count": null,
   "id": "82820c0e-894a-4583-b650-c0034a71803c",
   "metadata": {},
   "outputs": [],
   "source": []
  }
 ],
 "metadata": {
  "kernelspec": {
   "display_name": "Python 3 (ipykernel)",
   "language": "python",
   "name": "python3"
  },
  "language_info": {
   "codemirror_mode": {
    "name": "ipython",
    "version": 3
   },
   "file_extension": ".py",
   "mimetype": "text/x-python",
   "name": "python",
   "nbconvert_exporter": "python",
   "pygments_lexer": "ipython3",
   "version": "3.12.5"
  }
 },
 "nbformat": 4,
 "nbformat_minor": 5
}
