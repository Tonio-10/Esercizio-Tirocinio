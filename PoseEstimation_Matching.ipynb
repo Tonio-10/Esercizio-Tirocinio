{
 "cells": [
  {
   "cell_type": "markdown",
   "id": "a522ef32-bb6c-47b0-a456-e7373c5b7f56",
   "metadata": {},
   "source": [
    "# PoseEstimation_Matching"
   ]
  },
  {
   "cell_type": "markdown",
   "id": "88898668-f4a9-476c-82ef-041ac7d6138f",
   "metadata": {},
   "source": [
    "Con il modulo \"sys\" posso importare la directory di \"models\" allo stesso livello del PoseEstimation_Utils.py, così da richiamare la funzione di utils.py e matching.py"
   ]
  },
  {
   "cell_type": "code",
   "execution_count": 1,
   "id": "e4521d52-f6af-4b9d-a362-4fe4e8e08eaf",
   "metadata": {},
   "outputs": [],
   "source": [
    "import sys\n",
    "sys.path.append('./SuperGluePretrainedNetwork/models')\n",
    "import utils\n",
    "import matching\n",
    "\n",
    "from PIL import Image\n",
    "import torchvision.transforms as transforms\n",
    "import torch"
   ]
  },
  {
   "cell_type": "markdown",
   "id": "b2119c92-7f10-4e7d-8ffe-1ea15c9aac2b",
   "metadata": {},
   "source": [
    "Richiamo l'oggetto dalla classe necessaria per performare il matching, cambiando l'attributo dei weights da indoor ad outdoor"
   ]
  },
  {
   "cell_type": "code",
   "execution_count": 2,
   "id": "10547d4b-4885-4dec-bb73-c5a2c1476b16",
   "metadata": {
    "collapsed": true,
    "jupyter": {
     "outputs_hidden": true
    }
   },
   "outputs": [
    {
     "name": "stdout",
     "output_type": "stream",
     "text": [
      "Loaded SuperPoint model\n",
      "Loaded SuperGlue model (\"indoor\" weights)\n"
     ]
    },
    {
     "name": "stderr",
     "output_type": "stream",
     "text": [
      "C:\\Users\\antoa\\ImageClassification\\SuperGluePretrainedNetwork/models\\superpoint.py:137: FutureWarning: You are using `torch.load` with `weights_only=False` (the current default value), which uses the default pickle module implicitly. It is possible to construct malicious pickle data which will execute arbitrary code during unpickling (See https://github.com/pytorch/pytorch/blob/main/SECURITY.md#untrusted-models for more details). In a future release, the default value for `weights_only` will be flipped to `True`. This limits the functions that could be executed during unpickling. Arbitrary objects will no longer be allowed to be loaded via this mode unless they are explicitly allowlisted by the user via `torch.serialization.add_safe_globals`. We recommend you start setting `weights_only=True` for any use case where you don't have full control of the loaded file. Please open an issue on GitHub for any issues related to this experimental feature.\n",
      "  self.load_state_dict(torch.load(str(path)))\n",
      "C:\\Users\\antoa\\ImageClassification\\SuperGluePretrainedNetwork/models\\superglue.py:226: FutureWarning: You are using `torch.load` with `weights_only=False` (the current default value), which uses the default pickle module implicitly. It is possible to construct malicious pickle data which will execute arbitrary code during unpickling (See https://github.com/pytorch/pytorch/blob/main/SECURITY.md#untrusted-models for more details). In a future release, the default value for `weights_only` will be flipped to `True`. This limits the functions that could be executed during unpickling. Arbitrary objects will no longer be allowed to be loaded via this mode unless they are explicitly allowlisted by the user via `torch.serialization.add_safe_globals`. We recommend you start setting `weights_only=True` for any use case where you don't have full control of the loaded file. Please open an issue on GitHub for any issues related to this experimental feature.\n",
      "  self.load_state_dict(torch.load(str(path)))\n"
     ]
    }
   ],
   "source": [
    "match = matching.Matching()\n",
    "match.weights = \"outdoor\"\n",
    "#print(match.weights)"
   ]
  },
  {
   "cell_type": "markdown",
   "id": "a4b9762d-0cdc-46fa-bb9c-de1a91a8dfc9",
   "metadata": {},
   "source": [
    "Definisco la funzione di matching che runna Superpoint e SuperGlue sulle due immagini scelte, a valle della conversione delle stesse nel formato accettato"
   ]
  },
  {
   "cell_type": "code",
   "execution_count": 11,
   "id": "5b2e5432-2cb8-44d5-bbca-133157026ceb",
   "metadata": {
    "collapsed": true,
    "jupyter": {
     "outputs_hidden": true
    }
   },
   "outputs": [
    {
     "data": {
      "text/plain": [
       "{'keypoints0': [tensor([[ 179.,    8.],\n",
       "          [ 315.,    8.],\n",
       "          [ 505.,    8.],\n",
       "          ...,\n",
       "          [ 266., 1015.],\n",
       "          [ 522., 1015.],\n",
       "          [ 763., 1015.]])],\n",
       " 'scores0': (tensor([0.0060, 0.0386, 0.0348,  ..., 0.0203, 0.0238, 0.0221],\n",
       "         grad_fn=<IndexBackward0>),),\n",
       " 'descriptors0': [tensor([[ 3.2384e-02,  2.9950e-02,  4.8208e-02,  ...,  2.0744e-02,\n",
       "           -2.1598e-02, -4.6335e-05],\n",
       "          [-9.0647e-02,  2.9038e-02, -4.5789e-02,  ...,  1.5710e-02,\n",
       "           -5.7257e-02, -1.1181e-01],\n",
       "          [-4.5147e-02,  4.0723e-02,  1.9220e-02,  ...,  2.2097e-01,\n",
       "            6.1778e-02,  9.2101e-02],\n",
       "          ...,\n",
       "          [ 4.3642e-02, -8.7636e-03, -3.0826e-02,  ..., -3.9260e-02,\n",
       "            1.9090e-02, -4.9287e-02],\n",
       "          [ 9.7608e-03, -4.5511e-02,  2.1109e-03,  ..., -4.8191e-02,\n",
       "           -4.8286e-02, -2.3080e-02],\n",
       "          [-6.3288e-02, -8.0547e-02, -2.8777e-03,  ...,  4.4758e-02,\n",
       "            1.4759e-02, -1.4621e-03]], grad_fn=<SelectBackward0>)],\n",
       " 'keypoints1': [tensor([[ 479.,    8.],\n",
       "          [ 670.,    8.],\n",
       "          [ 584.,    9.],\n",
       "          ...,\n",
       "          [ 523., 1015.],\n",
       "          [ 787., 1015.],\n",
       "          [ 973., 1015.]])],\n",
       " 'scores1': (tensor([0.0434, 0.0099, 0.0079,  ..., 0.1765, 0.2356, 0.0057],\n",
       "         grad_fn=<IndexBackward0>),),\n",
       " 'descriptors1': [tensor([[ 0.0118,  0.0463,  0.0859,  ..., -0.0122,  0.0345, -0.0285],\n",
       "          [-0.1226,  0.0137, -0.0534,  ...,  0.0469, -0.1199, -0.0417],\n",
       "          [ 0.0195,  0.0408,  0.0633,  ...,  0.0978,  0.1253,  0.0296],\n",
       "          ...,\n",
       "          [ 0.0205, -0.0818, -0.0282,  ..., -0.0039,  0.0394,  0.0388],\n",
       "          [-0.0451, -0.0020, -0.0060,  ...,  0.0103, -0.0070, -0.1013],\n",
       "          [ 0.0748, -0.0310, -0.0044,  ..., -0.0948,  0.1012,  0.0636]],\n",
       "         grad_fn=<SelectBackward0>)],\n",
       " 'matches0': tensor([[287, 291, 333,  ...,  -1,  85,  -1]]),\n",
       " 'matches1': tensor([[  -1,   -1,   -1,  ...,   -1, 1041,   -1]]),\n",
       " 'matching_scores0': tensor([[0.3933, 0.7825, 0.6398,  ..., 0.0000, 0.2637, 0.0000]],\n",
       "        grad_fn=<WhereBackward0>),\n",
       " 'matching_scores1': tensor([[0.0851, 0.0000, 0.0000,  ..., 0.0000, 0.9087, 0.0000]],\n",
       "        grad_fn=<WhereBackward0>)}"
      ]
     },
     "execution_count": 11,
     "metadata": {},
     "output_type": "execute_result"
    }
   ],
   "source": [
    "ZeroImg_path = \"./SuperGluePretrainedNetwork/MoonLu/MoonImg/Nadir.png\"\n",
    "FirstImg_path = \"./SuperGluePretrainedNetwork/MoonLu/MoonImg/pitch_15_deg.png\"\n",
    "\n",
    "ZeroImg = Image.open(ZeroImg_path).convert(\"L\") #Il comando .convert(\"L\") serviva per convertire l'immagine in scala di grigi, non accettando RGB\n",
    "FirstImg = Image.open(FirstImg_path).convert(\"L\")\n",
    "\n",
    "transform = transforms.ToTensor() #Funzione utile a convertire l'immagine in Tensore, unico tipo di dato accettato dalla funzine di matching\n",
    "\n",
    "ZeroTensor = transform(ZeroImg)\n",
    "FirstTensor = transform(FirstImg)\n",
    "\n",
    "#.unsqueeze(1) permette di aggiungere un valore al vettore che la funzione va a \"unpackettare\", infatti\n",
    "# si aspetta (batch_size, channels, height, width), ma dalla foto in scala di grigi ottiene solo (batch_size, height, width).\n",
    "# Ovvero [1, 1024, 1024] invece che [1, 1, 1024, 1024]\n",
    "ZeroTensor = ZeroTensor.unsqueeze(1) \n",
    "FirstTensor = FirstTensor.unsqueeze(1)\n",
    "\n",
    "Image_to_Compare = {\"image0\": ZeroTensor , #la funzione accetta un dictionary in input con le due immagini\n",
    "                    \"image1\": FirstTensor}\n",
    "#print(ZeroTensor.shape)\n",
    "match.forward(Image_to_Compare) #Funzione di matching"
   ]
  },
  {
   "cell_type": "code",
   "execution_count": null,
   "id": "261da5d2-b210-4c9c-aea0-9e88c77b55d7",
   "metadata": {},
   "outputs": [],
   "source": []
  }
 ],
 "metadata": {
  "kernelspec": {
   "display_name": "Python 3 (ipykernel)",
   "language": "python",
   "name": "python3"
  },
  "language_info": {
   "codemirror_mode": {
    "name": "ipython",
    "version": 3
   },
   "file_extension": ".py",
   "mimetype": "text/x-python",
   "name": "python",
   "nbconvert_exporter": "python",
   "pygments_lexer": "ipython3",
   "version": "3.12.5"
  }
 },
 "nbformat": 4,
 "nbformat_minor": 5
}
